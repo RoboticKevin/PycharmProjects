{
 "metadata": {
  "language_info": {
   "codemirror_mode": {
    "name": "ipython",
    "version": 3
   },
   "file_extension": ".py",
   "mimetype": "text/x-python",
   "name": "python",
   "nbconvert_exporter": "python",
   "pygments_lexer": "ipython3",
   "version": "3.8.6-candidate"
  },
  "orig_nbformat": 2,
  "kernelspec": {
   "name": "python38664bit53a3d64b5eaa4da7a70fc57c05c235de",
   "display_name": "Python 3.8.6 64-bit"
  }
 },
 "nbformat": 4,
 "nbformat_minor": 2,
 "cells": [
  {
   "source": [
    "1、输出当前版本的所有关键字："
   ],
   "cell_type": "markdown",
   "metadata": {}
  },
  {
   "source": [
    "import keyword\n",
    "keyword.kwlist"
   ],
   "cell_type": "code",
   "metadata": {},
   "execution_count": null,
   "outputs": []
  },
  {
   "source": [
    "2、\n",
    "\n",
    "单行注释：#\n",
    "\n",
    "多行注释：'''和\"\"\""
   ],
   "cell_type": "markdown",
   "metadata": {}
  },
  {
   "cell_type": "code",
   "execution_count": null,
   "metadata": {},
   "outputs": [],
   "source": [
    "# 单行注释\n",
    "'''\n",
    "注释1\n",
    "注释2\n",
    "注释3\n",
    "'''"
   ]
  },
  {
   "source": [
    "3、多行语句 用反斜杠\n",
    "\n",
    "在 [], {}, 或 () 中的多行语句，不需要使用反斜杠(\\)"
   ],
   "cell_type": "markdown",
   "metadata": {}
  },
  {
   "cell_type": "code",
   "execution_count": null,
   "metadata": {},
   "outputs": [],
   "source": [
    "total = num1 + \\\n",
    "        num2 + \\\n",
    "        num3"
   ]
  },
  {
   "cell_type": "code",
   "execution_count": null,
   "metadata": {},
   "outputs": [],
   "source": []
  }
 ]
}